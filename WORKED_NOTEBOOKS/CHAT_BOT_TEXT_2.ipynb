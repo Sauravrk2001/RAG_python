{
 "cells": [
  {
   "cell_type": "code",
   "execution_count": 1,
   "metadata": {},
   "outputs": [
    {
     "name": "stderr",
     "output_type": "stream",
     "text": [
      "C:\\Users\\Anandhu\\AppData\\Local\\Temp\\ipykernel_16928\\2754882615.py:3: LangChainDeprecationWarning: The class `HuggingFaceEmbeddings` was deprecated in LangChain 0.2.2 and will be removed in 1.0. An updated version of the class exists in the :class:`~langchain-huggingface package and should be used instead. To use it run `pip install -U :class:`~langchain-huggingface` and import as `from :class:`~langchain_huggingface import HuggingFaceEmbeddings``.\n",
      "  embedding_function = HuggingFaceEmbeddings(model_name=\"intfloat/e5-large-v2\")\n",
      "c:\\Users\\Anandhu\\AppData\\Local\\Programs\\Python\\Python310\\lib\\site-packages\\tqdm\\auto.py:21: TqdmWarning: IProgress not found. Please update jupyter and ipywidgets. See https://ipywidgets.readthedocs.io/en/stable/user_install.html\n",
      "  from .autonotebook import tqdm as notebook_tqdm\n"
     ]
    }
   ],
   "source": [
    "from langchain.vectorstores import Chroma\n",
    "from langchain.embeddings import HuggingFaceEmbeddings\n",
    "embedding_function = HuggingFaceEmbeddings(model_name=\"intfloat/e5-large-v2\")\n",
    "from langchain.schema import Document\n",
    "import json"
   ]
  },
  {
   "cell_type": "markdown",
   "metadata": {},
   "source": [
    "<h2>LOADING THE SAVED CHUNKS AND THE CHROMA VECTOR DATABASE</h2>"
   ]
  },
  {
   "cell_type": "code",
   "execution_count": 2,
   "metadata": {},
   "outputs": [
    {
     "name": "stderr",
     "output_type": "stream",
     "text": [
      "C:\\Users\\Anandhu\\AppData\\Local\\Temp\\ipykernel_16928\\4196027506.py:10: LangChainDeprecationWarning: The class `Chroma` was deprecated in LangChain 0.2.9 and will be removed in 1.0. An updated version of the class exists in the :class:`~langchain-chroma package and should be used instead. To use it run `pip install -U :class:`~langchain-chroma` and import as `from :class:`~langchain_chroma import Chroma``.\n",
      "  vectorstore = Chroma(persist_directory=\"./chroma_db_pedition\", embedding_function=embedding_function)\n"
     ]
    }
   ],
   "source": [
    "def load_chunks(filename=\"preprocessed_chunks.json\"):\n",
    "    with open(filename, 'r') as f:\n",
    "        chunk_dicts = json.load(f)\n",
    "    return [Document(page_content=c[\"page_content\"], metadata=c[\"metadata\"]) for c in chunk_dicts]\n",
    "\n",
    "# Load chunks instead of reprocessing PDF\n",
    "chunks = load_chunks()\n",
    "\n",
    "# Load the stored vector database\n",
    "vectorstore = Chroma(persist_directory=\"./chroma_db_pedition\", embedding_function=embedding_function)"
   ]
  },
  {
   "cell_type": "markdown",
   "metadata": {},
   "source": [
    "<h2>USING ONLY VECTOR SIMILARITY</h2>"
   ]
  },
  {
   "cell_type": "code",
   "execution_count": 3,
   "metadata": {},
   "outputs": [
    {
     "name": "stderr",
     "output_type": "stream",
     "text": [
      "C:\\Users\\Anandhu\\AppData\\Local\\Temp\\ipykernel_16928\\612966275.py:3: LangChainDeprecationWarning: The method `BaseRetriever.get_relevant_documents` was deprecated in langchain-core 0.1.46 and will be removed in 1.0. Use :meth:`~invoke` instead.\n",
      "  relevant_chunks = retriever.get_relevant_documents(\"What challenge did Penelope use to test the suitors, and how did Odysseus prove his identity?\")\n"
     ]
    },
    {
     "data": {
      "text/plain": [
       "\" \\nPenelope devised a challenge where the suitors had to string Odysseus' great bow and shoot an arrow through twelve axe heads. \\nNone of the suitors could accomplish the feat. However, when Odysseus, disguised as a beggar, attempted the challenge, \\nhe easily strung the bow and shot the arrow through all twelve axe heads, proving his true identity. \\n\""
      ]
     },
     "execution_count": 3,
     "metadata": {},
     "output_type": "execute_result"
    }
   ],
   "source": [
    "# Retrieve the top 3 most similar chunks for a user query\n",
    "retriever = vectorstore.as_retriever(search_kwargs={\"k\": 3})\n",
    "relevant_chunks = retriever.get_relevant_documents(\"What challenge did Penelope use to test the suitors, and how did Odysseus prove his identity?\")\n",
    "\n",
    "\n",
    "''' \n",
    "Penelope devised a challenge where the suitors had to string Odysseus' great bow and shoot an arrow through twelve axe heads. \n",
    "None of the suitors could accomplish the feat. However, when Odysseus, disguised as a beggar, attempted the challenge, \n",
    "he easily strung the bow and shot the arrow through all twelve axe heads, proving his true identity. \n",
    "'''"
   ]
  },
  {
   "cell_type": "code",
   "execution_count": 4,
   "metadata": {},
   "outputs": [
    {
     "name": "stdout",
     "output_type": "stream",
     "text": [
      "but he laid his hand on my mouth, and in the fulness of his wisdom suffered me not to speak. But come with me and I will stake my life on it; and if I play thee false, do thou slay me by a death most pitiful.” Then wise Penelope made answer to her: “Dear nurse, it is hard for thee, how wise soever, to observe the purposes of the everlasting gods. None the less let us go to my child, that I may see the wooers dead, and him that slew them.” With that word she went down from the upper chamber, and much her heart debated, whether she should stand apart, and question her dear lord or draw nigh, and clasp and kiss his head and hands. But when she had come within and had crossed the threshold of stone, she sat down over against Odysseus, in the light of the fire, by the further wall. Now he was sitting by the tall pillar, looking down and waiting to know if perchance his noble wife would speak to him, when her eyes beheld him. But she sat long in silence, and amazement came upon her soul, and now she would look upon him steadfastly with her eyes, and now again she knew him not, for that he was clad in vile raiment. And Telemachus rebuked her, and spake and hailed her: “Mother mine, ill mother, of an ungentle heart, why turnest thou thus away from my father, and dost not sit by him and question him and ask him all? No other woman in the world would harden her heart to stand thus aloof from her lord, who after much travail and sore had come to her in the twentieth year to his own country. But thy heart is ever harder than stone.” Then wise Penelope answered him, saying: “Child, my mind is amazed within me, and I have no strength to speak, nor to ask him aught, nay nor to look on him face to face. But if in truth this be Odysseus, and he hath indeed come home, verily we shall be ware of each other the more surely, for we have tokens that we twain know, even we, secret from all others.” So she spake, and the steadfast goodly Odysseus smiled, and quickly he spake to Telemachus winged words: “Telemachus, leave now thy mother to make trial of me within the chambers; so shall she soon come to a better knowledge than heretofore. But now I go filthy, and am clad in vile raiment, wherefore she has me in dishonour, and as yet will not allow that I am he. Let us then advise us how all may be for the very best. For whoso has slain but one man in a land, even that one leaves not many behind him to take up the feud for him, turns outlaw and leaves his kindred and his own country; but we have slain the very stay of the city, the men who were far the best of all the noble youths in Ithaca. So this I bid thee consider.” Then wise Telemachus answered him, saying: “Father, see thou to this, for\n",
      "Odysseus nodded frowning and stayed him, for all his eagerness. Then the strong prince Telemachus spake among them again: “Lo you now, even to the end of my days I shall be a coward and a weakling, or it may be I am too young, and have as yet no trust in my hands to defend me from such an one as does violence without a cause. But come now, ye who are mightier men than I, essay the bow and let us make an end of the contest.” Therewith he put the bow from him on the ground, leaning it against the smooth and well-compacted doors, and the swift shaft he propped hard by against the fair bow-tip, and then he sat down once more on the high seat, whence he had risen. Then Antinous, son of Eupeithes, spake among them, saying: “Rise up in order, all my friends, beginning from the left, even from the place whence the wine is poured.” So spake Antinous, and the saying pleased them well. Then first stood up Leiodes, son of Oenops, who was their soothsayer and ever sat by the fair mixing bowl at the extremity of the hall; he alone hated their infatuate deeds and was indignant with all the wooers. He now first took the bow and the swift shaft, and he went and stood by the threshold, and began to prove the bow; but he could not bend it; or ever that might be, his hands grew weary with the straining, his unworn, delicate hands; so he spake among the wooers, saying: “Friends, of a truth I cannot bend it, let some other take it. Ah, many of our bravest shall this bow rob of spirit and of life, since truly it is far better for us to die, than to live on and to fail of that for which we assemble evermore in this place, day by day expecting the prize. Many there be even now that hope in their hearts and desire to wed Penelope, the bedfellow of Odysseus: but when such an one shall make trial of the bow and see the issue, thereafter let him woo some other fair-robed Achaean woman with his bridal gifts and seek to win her. So may our lady wed the man that gives most gifts, and comes as the chosen of fate.” So he spake, and put from him the bow leaning it against the smooth and well- compacted doors, and the swift shaft he propped hard by against the fair bow-tip, and then he sat down once more on the high seat, whence he had risen. But Antinous rebuked him, and spake and hailed him: “Leiodes, what word hath escaped the door of thy lips; a hard word, and a grievous? Nay, it angers me to hear it, and to think that a bow such as this shall rob our bravest of spirit and of life, and all because thou canst not draw it. For I tell thee that thy lady mother bare thee not of such might as to draw a bow and shoot arrows: but there be\n",
      "“Ah, woe is me, child, for thy sake, all helpless that I am! Surely Zeus hated thee above all men, though thou hadst a god-fearing spirit! For never yet did any mortal burn so many fat pieces of the thigh and so many choice hecatombs to Zeus, whose joy is in the thunder, as thou didst give to him, praying that so thou mightest grow to a smooth old age and rear thy renowned son. But now from thee alone hath Zeus wholly cut off the day of thy returning. Haply at him too did the women mock in a strange land afar, whensoever he came to the famous palace of any lord, even as here these shameless ones all mock at thee. To shun their insults and many taunts it is that thou sufferest them not to wash thy feet, but the daughter of Icarius, wise Penelope, hath bidden me that am right willing to this task. Wherefore I will wash thy feet, both for Penelope’s sake and for thine own, for that my heart within me is moved and troubled. But come, mark the word that I shall speak. Many strangers travel-worn have ere now come hither, but I say that I have never seen any so like another, as thou art like Odysseus, in fashion in voice and in feet.” Then Odysseus of many counsels answered her saying: “Old wife, even so all men declare, that have beheld us twain, that we favour each other exceedingly, even as thou dost mark and say.” Thereupon the crone took the shining cauldron, wherefrom [34] she set to wash his feet, and poured in much cold water and next mingled therewith the warm. Now Odysseus sat aloof from the hearth, and of a sudden he turned his face to the darkness, for anon he had a misgiving of heart lest when she handled him she might know the scar again, and all should be revealed. Now she drew near her lord to wash him, and straightway she knew the scar of the wound, that the boar had dealt him with his white tusk long ago, when Odysseus went to Parnassus to see Autolycus, and the sons of Autolycus, his mother’s noble father, who outdid all men in thievery and skill in swearing. This skill was the gift of the god himself, even Hermes, for that he burned to him the well-pleasing sacrifice of the thighs of lambs and kids; wherefore Hermes abetted him gladly. Now Autolycus once had gone to the rich land of Ithaca, and found his daughter’s son a child new-born, and when he was making an end of supper, behold, Eurycleia set the babe on his knees, and spake and hailed him: “Autolycus find now a name thyself to give thy child’s own son; for lo, he is a child of many prayers.” [34] Reading τοῦ. Then Autolycus made answer and spake: “My daughter and my daughter’s lord, give ye him whatsoever name I tell you. Forasmuch as I am come hither in\n"
     ]
    }
   ],
   "source": [
    "for chunk in relevant_chunks:\n",
    "    print(chunk.page_content)  # Shows the most relevant textbook sections"
   ]
  },
  {
   "cell_type": "code",
   "execution_count": 5,
   "metadata": {},
   "outputs": [
    {
     "name": "stdout",
     "output_type": "stream",
     "text": [
      "The Odyssey\n",
      "The Odyssey\n",
      "The Project Gutenberg EBook of The Odyssey, by Homer This eBook is for the use of anyone anywhere in the United States and most other parts of the world at no cost and with almost no restrictions whatsoever. You may copy it, give it away or re-use it under the terms of the Project Gutenberg License included with this eBook or online at www.gutenberg.org. If you are not located in the United States, you'll have to check the laws of the country where you are located before using this ebook. Title: The Odyssey Author: Homer Translator: Butcher & Lang Release Date: April, 1999 [EBook #1728] Last updated: April 16, 2020 Language: English *** START OF THIS PROJECT GUTENBERG EBOOK THE ODYSSEY *** Produced by Jim Tinsley\n"
     ]
    }
   ],
   "source": [
    "relevant_chunks = retriever.get_relevant_documents(\"who wrote odyssey?\")\n",
    "for chunk in relevant_chunks:\n",
    "    print(chunk.page_content)"
   ]
  },
  {
   "cell_type": "code",
   "execution_count": 6,
   "metadata": {},
   "outputs": [
    {
     "name": "stdout",
     "output_type": "stream",
     "text": [
      "THE FULL PROJECT GUTENBERG LICENSE PLEASE READ THIS BEFORE YOU DISTRIBUTE OR USE THIS WORK To protect the Project Gutenberg-tm mission of promoting the free distribution of electronic works, by using or distributing this work (or any other work associated in any way with the phrase \"Project Gutenberg\"), you agree to comply with all the terms of the Full Project Gutenberg-tm License available with this file or online at www.gutenberg.org/license. Section 1. General Terms of Use and Redistributing Project Gutenberg-tm electronic works 1.A. By reading or using any part of this Project Gutenberg-tm electronic work, you indicate that you have read, understand, agree to and accept all the terms of this license and intellectual property (trademark/copyright) agreement. If you do not agree to abide by all the terms of this agreement, you must cease using and return or destroy all copies of Project Gutenberg-tm electronic works in your possession. If you paid a fee for obtaining a copy of or access to a Project Gutenberg-tm electronic work and you do not agree to be bound by the terms of this agreement, you may obtain a refund from the person or entity to whom you paid the fee as set forth in paragraph 1.E.8. 1.B. \"Project Gutenberg\" is a registered trademark. It may only be used on or associated in any way with an electronic work by people who agree to be bound by the terms of this agreement. There are a few things that you can do with most Project Gutenberg-tm electronic works even without complying with the full terms of this agreement. See paragraph 1.C below. There are a lot of things you can do with Project Gutenberg-tm electronic works if you follow the terms of this agreement and help preserve free future access to Project Gutenberg-tm electronic works. See paragraph 1.E below. 1.C. The Project Gutenberg Literary Archive Foundation (\"the Foundation\" or PGLAF), owns a compilation copyright in the collection of Project Gutenberg-tm electronic works. Nearly all the individual works in the collection are in the public domain in the United States. If an individual work is unprotected by copyright law in the United States and you are located in the United States, we do not claim a right to prevent you from copying, distributing, performing, displaying or creating derivative works based on the work as long as all references to Project Gutenberg are removed. Of course, we hope that you will support the Project Gutenberg-tm mission of promoting free access to electronic works by freely sharing Project Gutenberg-tm works in compliance with the terms of this agreement for keeping the Project Gutenberg-tm name associated with the work. You can easily comply with the terms of this agreement by keeping this work in the same format with its attached full Project Gutenberg-tm License when you share it without charge with others. 1.D. The copyright laws of the place where you are located also govern what you can do with this work. Copyright laws in most countries are in a constant state of change. If you are outside the United States, check the laws of your country in addition to the terms of this agreement before downloading, copying, displaying, performing, distributing or creating derivative works based on this work or any other Project Gutenberg-tm work. The Foundation makes no representations concerning the copyright status of any work in any country outside the United States. 1.E. Unless you have removed all references to Project Gutenberg:\n",
      "1.E.1. The following sentence, with active links to, or other immediate access to, the full Project Gutenberg-tm License must appear prominently whenever any copy of a Project Gutenberg-tm work (any work on which the phrase \"Project Gutenberg\" appears, or with which the phrase \"Project Gutenberg\" is associated) is accessed, displayed, performed, viewed, copied or distributed: This eBook is for the use of anyone anywhere in the United States and most other parts of the world at no cost and with almost no restrictions whatsoever. You may copy it, give it away or re-use it under the terms of the Project Gutenberg License included with this eBook or online at www.gutenberg.org. If you are not located in the United States, you'll have to check the laws of the country where you are located before using this ebook. 1.E.2. If an individual Project Gutenberg-tm electronic work is derived from texts not protected by U.S. copyright law (does not contain a notice indicating that it is posted with permission of the copyright holder), the work can be copied and distributed to anyone in the United States without paying any fees or charges. If you are redistributing or providing access to a work with the phrase \"Project Gutenberg\" associated with or appearing on the work, you must comply either with the requirements of paragraphs 1.E.1 through 1.E.7 or obtain permission for the use of the work and the Project Gutenberg-tm trademark as set forth in paragraphs 1.E.8 or 1.E.9. 1.E.3. If an individual Project Gutenberg-tm electronic work is posted with the permission of the copyright holder, your use and distribution must comply with both paragraphs 1.E.1 through 1.E.7 and any additional terms imposed by the copyright holder. Additional terms will be linked to the Project Gutenberg-tm License for all works posted with the permission of the copyright holder found at the beginning of this work. 1.E.4. Do not unlink or detach or remove the full Project Gutenberg-tm License terms from this work, or any files containing a part of this work or any other work associated with Project Gutenberg-tm. 1.E.5. Do not copy, display, perform, distribute or redistribute this electronic work, or any part of this electronic work, without prominently displaying the sentence set forth in paragraph 1.E.1 with active links or immediate access to the full terms of the Project Gutenberg-tm License. 1.E.6. You may convert to and distribute this work in any binary, compressed, marked up, nonproprietary or proprietary form, including any word processing or hypertext form. However, if you provide access to or distribute copies of a Project Gutenberg-tm work in a format other than \"Plain Vanilla ASCII\" or other format used in the official version posted on the official Project Gutenberg-tm web site (www.gutenberg.org), you must, at no additional cost, fee or expense to the user, provide a copy, a means of exporting a copy, or a means of obtaining a copy upon request, of the work in its original \"Plain Vanilla ASCII\" or other form. Any alternate format must include the full Project Gutenberg-tm License as specified in paragraph 1.E.1. 1.E.7. Do not charge a fee for access to, viewing, displaying, performing, copying or distributing any Project Gutenberg-tm works unless you comply with paragraph 1.E.8 or 1.E.9. 1.E.8. You may charge a reasonable fee for copies of or providing access to or distributing Project Gutenberg-tm electronic works provided that\n",
      "The Project Gutenberg EBook of The Odyssey, by Homer This eBook is for the use of anyone anywhere in the United States and most other parts of the world at no cost and with almost no restrictions whatsoever. You may copy it, give it away or re-use it under the terms of the Project Gutenberg License included with this eBook or online at www.gutenberg.org. If you are not located in the United States, you'll have to check the laws of the country where you are located before using this ebook. Title: The Odyssey Author: Homer Translator: Butcher & Lang Release Date: April, 1999 [EBook #1728] Last updated: April 16, 2020 Language: English *** START OF THIS PROJECT GUTENBERG EBOOK THE ODYSSEY *** Produced by Jim Tinsley\n"
     ]
    }
   ],
   "source": [
    "relevant_chunks = retriever.get_relevant_documents(\"who wrote this book?\")\n",
    "for chunk in relevant_chunks:\n",
    "    print(chunk.page_content)"
   ]
  },
  {
   "cell_type": "markdown",
   "metadata": {},
   "source": [
    "<h2>USING BOTH VECTOR SIMILARITY AND KEYWORD SIMILARITY</h2>"
   ]
  },
  {
   "cell_type": "code",
   "execution_count": 7,
   "metadata": {},
   "outputs": [],
   "source": [
    "from langchain.retrievers import BM25Retriever, EnsembleRetriever\n",
    "\n",
    "# Existing vector retriever\n",
    "vector_retriever = vectorstore.as_retriever(search_kwargs={\"k\": 5})\n",
    "\n",
    "# Keyword retriever (BM25)\n",
    "bm25_retriever = BM25Retriever.from_documents(chunks)\n",
    "bm25_retriever.k = 5\n",
    "\n",
    "# Hybrid ensemble retriever\n",
    "ensemble_retriever = EnsembleRetriever(\n",
    "    retrievers=[vector_retriever, bm25_retriever],\n",
    "    weights=[0.7, 0.3]  # Tune based on your data\n",
    ")\n",
    "\n",
    "relevant_chunks = ensemble_retriever.get_relevant_documents(\"who wrote odyssey?\")"
   ]
  },
  {
   "cell_type": "code",
   "execution_count": 8,
   "metadata": {},
   "outputs": [
    {
     "data": {
      "text/plain": [
       "[Document(metadata={'page': 2, 'page_label': '3', 'source': 'The-Odyssey.pdf'}, page_content='The Odyssey'),\n",
       " Document(metadata={'page': 1, 'page_label': '2', 'source': 'The-Odyssey.pdf'}, page_content=\"The Project Gutenberg EBook of The Odyssey, by Homer This eBook is for the use of anyone anywhere in the United States and most other parts of the world at no cost and with almost no restrictions whatsoever. You may copy it, give it away or re-use it under the terms of the Project Gutenberg License included with this eBook or online at www.gutenberg.org. If you are not located in the United States, you'll have to check the laws of the country where you are located before using this ebook. Title: The Odyssey Author: Homer Translator: Butcher & Lang Release Date: April, 1999 [EBook #1728] Last updated: April 16, 2020 Language: English *** START OF THIS PROJECT GUTENBERG EBOOK THE ODYSSEY *** Produced by Jim Tinsley\"),\n",
       " Document(metadata={'page': 3, 'page_label': '4', 'source': 'The-Odyssey.pdf'}, page_content='by Homer DONE INTO ENGLISH PROSE by S. H. BUTCHER, M.A. Fellow and Protector of University College, Oxford Late Fellow of Trinity College, Cambridge AND A. LANG, M.A. Late Fellow of Merton College, Oxford Contents PREFACE. PREFACE TO THE THIRD EDITION. INTRODUCTION. The Odyssey BOOK I. BOOK II.'),\n",
       " Document(metadata={'page': 20, 'page_label': '21', 'source': 'The-Odyssey.pdf'}, page_content='separated and combined. The germ of the whole epic is probably the popular tale, known all over the world, of the warrior who, on his return from a long expedition, has great difficulty in making his prudent wife recognise him. The incident occurs as a detached story in China, and in most European countries it is told of a crusader. “We may suppose it to be older than the legend of Troy, and to have gravitated into the cycle of that legend. The years of the hero’s absence are then filled up with adventures (the Cyclops, Circé, the Phaeacians, the Sirens, the descent into hell) which exist as scattered tales, or are woven into the more elaborate epics of Gaels, Aztecs, Hindoos, Tartars, South-Sea Islanders, Finns, Russians, Scandinavians, and Eskimo. The whole is surrounded with the atmosphere of the kingly age of Greece, and the result is the Odyssey, with that unity of plot and variety of character which must have been given by one masterly constructive genius. The date at which the poet of the Odyssey lived may be approximately determined by his consistent descriptions of a peculiar and definite condition of society, which had ceased to exist in the ninth century B.C., and of a stage of art in which Phoenician and Assyrian influences predominated. ( Die Kunst bei Homer. Brunn.) As to the mode of composition, it would not be difficult to show that at least the a priori Wolfian arguments against the early use of writing for literary purposes have no longer the cogency which they were once thought to possess. But this is matter for a separate investigation.'),\n",
       " Document(metadata={'source': 'The-Odyssey.pdf', 'page': 144, 'page_label': '145'}, page_content='she was queen of Pylos, and bare glorious children to her lord, Nestor and Chromius, and princely Periclymenus, and stately Pero too, the wonder of all men. All that dwelt around were her wooers; but Neleus would not give her, save to him who should drive off from Phylace the kine of mighty Iphicles, with shambling gait and broad of brow, hard cattle to drive. And none but the noble seer [19] took in hand to drive them; but a grievous fate from the gods fettered him, even hard bonds and the herdsmen of the wild. But when at length the months and days were being fulfilled, as the year returned upon his course, and the seasons came round, then did mighty Iphicles set him free, when he had spoken out all the oracles; and herein was the counsel of Zeus being accomplished. [19] Melampus “And I saw Lede, the famous bed-fellow of Tyndareus, who bare to Tyndareus two sons, hardy of heart, Castor tamer of steeds, and Polydeuces the boxer. These twain yet live, but the quickening earth is over them; and even in the nether world they have honour at the hand of Zeus. And they possess their life in turn, living one day and dying the next, and they have gotten worship even as the gods. “And after her I beheld Iphimedeia, bed-fellow of Aloeus, who said that she had lain with Poseidon, and she bare children twain, but short of life were they, godlike Otus and far-famed Ephialtes. Now these were the tallest men that earth, the graingiver, ever reared, and far the goodliest after the renowned Orion. At nine seasons old they were of breadth nine cubits, and nine fathoms in height. They it was who threatened to raise even against the immortals in Olympus the din of stormy war. They strove to pile Ossa on Olympus, and on Ossa Pelion with the trembling forest leaves, that there might be a pathway to the sky. Yea, and they would have accomplished it, had they reached the full measure of manhood. But the son of Zeus, whom Leto of the fair locks bare, destroyed the twain, ere the down had bloomed beneath their temples, and darkened their chins with the blossom of youth. “And Phaedra and Procris I saw, and fair Ariadne, the daughter of wizard Minos, whom Theseus on a time was bearing from Crete to the hill of sacred Athens, yet had he no joy of her; for Artemis slew her ere that in sea-girt Dia, by reason of the witness of Dionysus. “And Maera and Clymene I saw, and hateful Eriphyle, who took fine gold for the price of her dear lord’s life. But I cannot tell or name all the wives and daughters of the heroes that I saw; ere that, the immortal night would wane. Nay,'),\n",
       " Document(metadata={'source': 'The-Odyssey.pdf', 'page': 143, 'page_label': '144'}, page_content='the child of noble Salmoneus, and declared herself the wife of Cretheus, son of Aeolus. She loved a river, the divine Enipeus, far the fairest of the floods that run upon the earth, and she would resort to the fair streams of Enipeus. And it came to pass that the girdler of the world, the Earth-shaker, put on the shape of the god, and lay by the lady at the mouths of the whirling stream. Then the dark wave stood around them like a hill-side bowed, and hid the god and the mortal woman. And he undid her maiden girdle, and shed a slumber over her. Now when the god had done the work of love, he clasped her hand and spake and hailed her: “‘Woman, be glad in our love, and when the year comes round thou shalt give birth to glorious children,—for not weak are the embraces of the gods,—and do thou keep and cherish them. And now go home and hold thy peace, and tell it not: but behold, I am Poseidon, shaker of the earth.’ “Therewith he plunged beneath the heaving deep. And she conceived and bare Pelias and Neleus, who both grew to be mighty men, servants of Zeus. Pelias dwelt in wide Iolcos, and was rich in flocks; and that other abode in sandy Pylos. And the queen of women bare yet other sons to Cretheus, even Aeson and Pheres and Amythaon, whose joy was in chariots. “And after her I saw Antiope, daughter of Asopus, and her boast was that she had slept even in the arms of Zeus, and she bare two sons, Amphion and Zethus, who founded first the place of seven-gated Thebes, and they made of it a fenced city, for they might not dwell in spacious Thebes unfenced, for all their valiancy. “Next to her I saw Alcmene, wife of Amphitryon, who lay in the arms of mighty Zeus, and bare Heracles of the lion-heart, steadfast in the fight. And I saw Megara, daughter of Creon, haughty of heart, whom the strong and tireless son of Amphitryon had to wife. “And I saw the mother of Oedipodes, fair Epicaste, who wrought a dread deed unwittingly, being wedded to her own son, and he that had slain his own father wedded her, and straightway the gods made these things known to men. Yet he abode in pain in pleasant Thebes, ruling the Cadmaeans, by reason of the deadly counsels of the gods. But she went down to the house of Hades, the mighty warder; yea, she tied a noose from the high beam aloft, being fast holden in sorrow; while for him she left pains behind full many, even all that the Avengers of a mother bring to pass. “And I saw lovely Chloris, whom Neleus wedded on a time for her beauty, and brought gifts of wooing past number. She was the youngest daughter of Amphion, son of Iasus, who once ruled mightily in Minyan Orchomenus. And'),\n",
       " Document(metadata={'source': 'The-Odyssey.pdf', 'page': 18, 'page_label': '19'}, page_content='an old man, and bids him go to the hut of the swineherd Eumaeus, who is loyal to his absent lord. Athene then goes to Lacedaemon, to bring back Telemachus, who has now resided there for a month. Odysseus won the heart of Eumaeus, who of course did not recognise him, and slept in the swineherd’s hut, while Athene was waking Telemachus, in Lacedaemon, and bidding him “be mindful of his return.” DAY 37 (Book xv). Is spent by Odysseus in the swineherd’s hut. Telemachus reaches Pherae, half- way to Pylos. DAY 38 (Book xv). Telemachus reaches Pylos, but does not visit Nestor. To save time he goes at once on board ship, taking with him an unfortunate outlaw, Theoclymenus, a second-sighted man, or the family of Melampus, in which the gift of prophecy was hereditary. The ship passed the Elian coast at night, and evaded the ambush of the wooers. Meanwhile Odysseus was sitting up almost till dawn, listening to the history of Eumaeus, the swineherd. DAY 39 (Books xv, xvi). Telemachus reaches the Isle of Ithaca, sends his ship to the city, but himself, by advice of Athene, makes for the hut of Eumaeus, where he meets, but naturally does not recognise, his disguised father. He sends Eumaeus to Penelope with news of his arrival, and then Athene reveals Odysseus to Telemachus. The two plot the death of the wooers. Odysseus bids Telemachus remove, on a favourable opportunity, the arms which were disposed as trophies on the walls of the hall at home. (There is a slight discrepancy between the words of this advice and the manner in which it is afterwards executed.) During this interview, the ship of Telemachus, the wooers who had been in ambush, and Eumaeus, all reached the town of Ithaca. In the evening Eumaeus returned to his hut, where Athene had again disguised Odysseus. DAY 40 (Books xvii, xviii, xix, xx). The story is now hastening to its close, and many events are crowded into the fortieth day. Telemachus goes from the swineherd’s hut to the city, and calls his guest, Theoclymenus, to the palace. The second-sighted man prophesies of the near revenge of Odysseus. In the afternoon, Odysseus (still disguised) and'),\n",
       " Document(metadata={'source': 'The-Odyssey.pdf', 'page': 23, 'page_label': '24'}, page_content='the Immortals: “Lo you now, how vainly mortal men do blame the gods! For of us they say comes evil, whereas they even of themselves, through the blindness of their own hearts, have sorrows beyond that which is ordained. Even as of late Aegisthus, beyond that which was ordained, took to him the wedded wife of the son of Atreus, and killed her lord on his return, and that with sheer doom before his eyes, since we had warned him by the embassy of Hermes the keen-sighted, the slayer of Argos, that he should neither kill the man, nor woo his wife. For the son of Atreus shall be avenged at the hand of Orestes, so soon as he shall come to man’s estate and long for his own country. So spake Hermes, yet he prevailed not on the heart of Aegisthus, for all his good will; but now hath he paid one price for all.” And the goddess, grey-eyed Athene, answered him, saying: “O father, our father Cronides, throned in the highest; that man assuredly lies in a death that is his due; so perish likewise all who work such deeds! But my heart is rent for wise Odysseus, that hapless one, who far from his friends this long while suffereth affliction in a seagirt isle, where is the navel of the sea, a woodland isle, and therein a goddess hath her habitation, the daughter of the wizard Atlas, who knows the depths of every sea, and himself upholds the tall pillars which keep earth and sky asunder. His daughter it is that holds the hapless man in sorrow: and ever with soft and guileful tales she is wooing him to forgetfulness of Ithaca. But Odysseus yearning to see if it were but the smoke leap upwards from his own land, hath a desire to die. As for thee, thine heart regardeth it not at all, Olympian! What! did not Odysseus by the ships of the Argives make thee free offering of sacrifice in the wide Trojan land? Wherefore wast thou then so wroth with him, O Zeus?” And Zeus the cloud-gatherer answered her, and said, “My child, what word hath escaped the door of thy lips? Yea, how should I forget divine Odysseus, who in understanding is beyond mortals and beyond all men hath done sacrifice to the deathless gods, who keep the wide heaven? Nay, but it is Poseidon, the girdler of the earth, that hath been wroth continually with quenchless anger for the Cyclops’ sake whom he blinded of his eye, even godlike Polyphemus whose power is mightiest amongst all the Cyclôpes. His mother was the nymph Thoösa, daughter of Phorcys, lord of the unharvested sea, and in the hollow caves she lay with Poseidon. From that day forth Poseidon the earth-shaker doth not indeed slay Odysseus, but driveth him wandering from his own country. But come, let us here one and all take good counsel as touching his returning, that he may be got home; so shall Poseidon let go his displeasure, for he will in no wise be able'),\n",
       " Document(metadata={'source': 'The-Odyssey.pdf', 'page': 185, 'page_label': '186'}, page_content='immortals who hath thee in his keeping and protection will send thee a fair breeze in thy wake. But when thou hast touched the nearest shore of Ithaca, send thy ship and all thy company forward to the city, but for thy part seek first the swineherd who keeps thy swine, loyal and at one with thee. There do thou rest the night, and bid him go to the city to bear tidings of thy coming to the wise Penelope, how that she hath got thee safe, and thou art come up out of Pylos.” Therewith she departed to high Olympus. But Telemachus woke the son of Nestor out of sweet sleep, touching him with his heel, and spake to him, saying: “Awake, Peisistratus, son of Nestor, bring up thy horses of solid hoof, and yoke them beneath the car, that we may get forward on the road.” Then Peisistratus, son of Nestor, answered him, saying: “Telemachus, we may in no wise drive through the dark night, how eager soever to be gone; nay, soon it will be dawn. Tarry then, till the hero, the son of Atreus, spear-famed Menelaus, brings gifts, and sets them on the car, and bespeaks thee kindly, and sends thee on thy way. For of him a guest is mindful all the days of his life, even of the host that shows him loving-kindness.” So spake he, and anon came the golden-throned Dawn. And Menelaus, of the loud war cry, drew nigh to them, new risen from his bed, by fair-haired Helen. Now when the dear son of Odysseus marked him, he made haste and girt his shining doublet about him, and the hero cast a great mantle over his mighty shoulders, and went forth at the door, and Telemachus, dear son of divine Odysseus, came up and spake to Menelaus, saying: “Menelaus, son of Atreus, fosterling of Zeus, leader of the people, even now do thou speed me hence, to mine own dear country; for even now my heart is fain to come home again.” Then Menelaus, of the loud war cry, answered him: “Telemachus, as for me, I will not hold thee a long time here, that art eager to return; nay, I think it shame even in another host, who loves overmuch or hates overmuch. Measure is best in all things. He does equal wrong who speeds a guest that would fain abide, and stays one who is in haste to be gone. Men should lovingly entreat the present guest and speed the parting. But abide till I bring fair gifts and set them on the car and thine own eyes behold them, and I bid the women to prepare the midday meal in the halls, out of the good store they have within. Honour and glory it is for us, and gain withal for thee, that ye should have eaten well ere ye go on your way, over vast and limitless lands. What and if thou art minded to pass through Hellas and mid Argos? So shall I too go with thee, and yoke thee horses and lead thee to the towns of men, and none shall send us empty away, but will give us')]"
      ]
     },
     "execution_count": 8,
     "metadata": {},
     "output_type": "execute_result"
    }
   ],
   "source": [
    "relevant_chunks"
   ]
  },
  {
   "cell_type": "markdown",
   "metadata": {},
   "source": [
    "<h2>HYBRID APPROACH OF USING HYBRID RETRIEVAL APPROACH FOLLOWED BY RE-RANKING</h2>\n",
    "\n",
    "uses a pre-trained model (BAAI/bge-reranker-large) that’s already trained to judge question-chunk relevance.\n",
    "bge-reranker-large is a cross encoder.\n",
    "\n",
    "\n",
    "<span style = \"font-weight: bold; font-size: 23px;\">1. Hybrid Retrieval</span>( code combines two retrieval methods )\n",
    "\n",
    "\n",
    "<span style = \"font-weight: bold; font-size: 15px;\">Vector Search (Semantic Search) :</span></br>\n",
    "Uses embeddings (e.g., intfloat/e5-large-v2) to find chunks that are semantically similar to the query.\n",
    "\n",
    "\n",
    "<span style = \"font-weight: bold; font-size: 15px;\">Keyword Search (BM25) :</span></br>\n",
    "Uses exact term matching to find chunks containing keywords like \"hospitality,\" \"themes,\" or \"Odyssey.\"\n",
    "\n",
    "\n",
    "The EnsembleRetriever combines the results from both methods using weights , giving more importance to vector search and less to keyword search.\n",
    "\n",
    "\n",
    "\n",
    "<span style = \"font-weight: bold; font-size: 23px;\">2. Re-Ranking</span>\n",
    "\n",
    "\n",
    "After retrieving chunks using the hybrid approach, code uses a cross-encoder re-ranker (BAAI/bge-reranker-large) to :</br>\n",
    "Score each chunk based on how well it answers the query.</br>\n",
    "Sort the chunks by relevance and keep only the top 3.</br>\n",
    "\n",
    "<span style = \"font-size: 14px;\">\n",
    "A cross-encoder reranker (like BAAI/bge-reranker-large) does not need to see data beforehand. </br>\n",
    "Instead, it works based on general language understanding and semantic similarity.</br>\n",
    "The model was trained on massive amounts of text (e.g., Wikipedia, books, academic papers).</br>\n",
    "It learned how to compare text pairs and decide if one is relevant to the other.</br>\n",
    "It does not need to be fine-tuned on The Odyssey specifically—it just compares question to the text using its existing knowledge of language.</br>\n",
    "When passing query and retrieved document chunks to BAAI/bge-reranker-large, the model compares them in real-time using semantic understanding.</span></br></br>\n",
    "\n",
    "<span style = \"font-weight: bold; font-size: 23px;\">Scoring</span>\n",
    "\n",
    "<span style = \"font-weight: bold;\">pairs = [[query, chunk.page_content] for chunk in chunks]</span></br>\n",
    "It creates a list of query-chunk pairs</br></br>\n",
    "<span style = \"font-weight: bold;font-size : 13px;\">output : \n",
    "[</br>\n",
    "    <span style = \"margin-left: 60px;\">[\"Who is Odysseus?\", \"Odysseus is the king of Ithaca and a hero of the Trojan War.\"]</span>,</br>\n",
    "    <span style = \"margin-left: 60px;\">[\"Who is Odysseus?\", \"Penelope waited 20 years for her husband's return.\"]</span>,</br>\n",
    "    <span style = \"margin-left: 60px;\">[\"Who is Odysseus?\", \"Odysseus is famous for his intelligence and cunning.\"]</span></br>\n",
    "]\n",
    "</span>\n",
    "\n",
    "The cross-encoder model takes two inputs at a time (the query and a document) and determines how relevant they are.</br></br></br></br>\n",
    "<span style = \"font-weight: bold;\">Tokenizer : </span>converts the text into numerical tokens that the model understands.</br>\n",
    "<span style = \"font-weight: bold;\">padding=True : </span>Ensures all inputs are the same length.</br>\n",
    "<span style = \"font-weight: bold;\">truncation=True : </span>Cuts long text at max_length=512 tokens (to fit model constraints).</br>\n",
    "<span style = \"font-weight: bold;\">return_tensors=\"pt\" : </span>Converts the text into PyTorch tensors for model input.</br>\n",
    "\n",
    "<span style = \"font-size: 14px;\">\n",
    "Vectors are just a type of tensor (specifically a 1D tensor).</br>\n",
    "In retrieval, embeddings (which are vectors) are used to represent the semantic meaning of text.</br>\n",
    "Tensors are used throughout deep learning models for efficient computation.</br>\n",
    "Cross-encoders use tensors to process and compare pairs of text (e.g., query + chunk) and compute similarity based on semantic meaning.</span></br>\n",
    "\n",
    "<span style = \"font-weight: bold;font-size : 13px;\">Example of Tokenized Output : </br>\n",
    "{</br>\n",
    "    <span style = \"margin-left: 60px;\">\"input_ids\": tensor([[ 101,  2040,  2003,  ...,  102,  ...,  1037, 2034,  ..., 102]]),</span>,</br>\n",
    "    <span style = \"margin-left: 60px;\">\"attention_mask\": tensor([[1, 1, 1, ..., 1, ..., 1, 1, ..., 1]])</span>,</br>\n",
    "}\n",
    "</span>\n",
    "</br></br></br>\n",
    "\n",
    "<span style = \"font-weight: bold;\">Getting Model Predictions (Relevance Scores)</span></br>\n",
    "with torch.no_grad():</br>\n",
    "    <span style = \"margin-left: 60px;\">scores = model(**inputs).logits.view(-1).float()</span>\n",
    "\n",
    "model(**inputs) → Runs the bge-reranker-large model on the tokenized input.</br>\n",
    ".logits.view(-1).float() → Extracts the relevance scores for each query-chunk pair.</br>\n",
    "\n",
    "<span style = \"font-weight: bold;font-size : 13px;\">Example of Model Scores:\n",
    "scores = tensor([3.1, 1.5, 2.7])  <span style = \"font-weight: bold;font-size : 11px;\"># Higher scores mean better relevance</span>\n",
    "</span>\n",
    "</br></br></br>\n",
    "\n",
    "<span style = \"font-weight: bold;\">probabilities = torch.sigmoid(scores).numpy()</span></br>\n",
    "<span style = \"font-weight: bold;font-size : 13px;\">\n",
    "Example Conversion :</br>\n",
    "raw_scores = [3.1, 1.5, 2.7]  <span style = \"font-weight: bold;font-size : 11px;\"># Model output</span></br>\n",
    "probabilities = [0.96, 0.82, 0.93]  <span style = \"font-weight: bold;font-size : 11px;\"># After applying sigmoid</span>\n",
    "</span>\n",
    "</br></br></br>\n",
    "\n",
    "<span style = \"font-weight: bold;\">return float(np.max(probabilities)) :</span></br> Returning the Highest Confidence Score"
   ]
  },
  {
   "cell_type": "code",
   "execution_count": 9,
   "metadata": {},
   "outputs": [],
   "source": [
    "from transformers import AutoModelForSequenceClassification, AutoTokenizer\n",
    "import torch\n",
    "import numpy as np\n",
    "\n",
    "\n",
    "\n",
    "# Load cross-encoder model\n",
    "rerank_model_name = \"BAAI/bge-reranker-large\"\n",
    "tokenizer = AutoTokenizer.from_pretrained(rerank_model_name)\n",
    "model = AutoModelForSequenceClassification.from_pretrained(rerank_model_name)\n",
    "\n",
    "\n",
    "\n",
    "# BELOW PART RETURNS WITHOUT CONFIDENT SCORES\n",
    "# def rerank_chunks(query, chunks, top_k=3):\n",
    "#     pairs = [[query, chunk.page_content] for chunk in chunks]\n",
    "#     inputs = tokenizer(pairs, padding=True, truncation=True, return_tensors=\"pt\", max_length=512)\n",
    "#     with torch.no_grad():\n",
    "#         scores = model(**inputs).logits.view(-1).float()\n",
    "#     sorted_indices = scores.argsort(descending=True)\n",
    "#     return [chunks[i] for i in sorted_indices[:top_k]]\n",
    "\n",
    "\n",
    "\n",
    "# FUNCTION WHICH ALSO RETURNS CONFIDENCE ALONG WITH RERANKING\n",
    "def rerank_chunks(query, chunks, top_k=3):\n",
    "    pairs = [[query, chunk.page_content] for chunk in chunks]\n",
    "    inputs = tokenizer(pairs, padding=True, truncation=True, return_tensors=\"pt\", max_length=512)\n",
    "\n",
    "    with torch.no_grad():\n",
    "        scores = model(**inputs).logits.view(-1).float()\n",
    "\n",
    "    sorted_indices = scores.argsort(descending=True)\n",
    "    top_chunks = [chunks[i] for i in sorted_indices[:top_k]]\n",
    "    top_scores = scores[sorted_indices[:top_k]].numpy()  # Extract scores for top results\n",
    "\n",
    "    return top_chunks, top_scores  # Return ranked chunks + scores\n",
    "\n",
    "\n",
    "\n",
    "def calculate_confidence(scores):\n",
    "    \"\"\"Takes the scores from `rerank_chunks` and applies sigmoid to get a confidence score.\"\"\"\n",
    "    probabilities = torch.sigmoid(torch.tensor(scores)).numpy()\n",
    "    return float(np.max(probabilities))  # Return the highest confidence score"
   ]
  },
  {
   "cell_type": "code",
   "execution_count": 10,
   "metadata": {},
   "outputs": [
    {
     "data": {
      "text/plain": [
       "[Document(metadata={'page': 1, 'page_label': '2', 'source': 'The-Odyssey.pdf'}, page_content=\"The Project Gutenberg EBook of The Odyssey, by Homer This eBook is for the use of anyone anywhere in the United States and most other parts of the world at no cost and with almost no restrictions whatsoever. You may copy it, give it away or re-use it under the terms of the Project Gutenberg License included with this eBook or online at www.gutenberg.org. If you are not located in the United States, you'll have to check the laws of the country where you are located before using this ebook. Title: The Odyssey Author: Homer Translator: Butcher & Lang Release Date: April, 1999 [EBook #1728] Last updated: April 16, 2020 Language: English *** START OF THIS PROJECT GUTENBERG EBOOK THE ODYSSEY *** Produced by Jim Tinsley\"),\n",
       " Document(metadata={'page': 2, 'page_label': '3', 'source': 'The-Odyssey.pdf'}, page_content='The Odyssey'),\n",
       " Document(metadata={'page': 3, 'page_label': '4', 'source': 'The-Odyssey.pdf'}, page_content='by Homer DONE INTO ENGLISH PROSE by S. H. BUTCHER, M.A. Fellow and Protector of University College, Oxford Late Fellow of Trinity College, Cambridge AND A. LANG, M.A. Late Fellow of Merton College, Oxford Contents PREFACE. PREFACE TO THE THIRD EDITION. INTRODUCTION. The Odyssey BOOK I. BOOK II.')]"
      ]
     },
     "execution_count": 10,
     "metadata": {},
     "output_type": "execute_result"
    }
   ],
   "source": [
    "initial_chunks = ensemble_retriever.get_relevant_documents(\"who wrote odyssey?\")\n",
    "final_chunks, relevance_scores = rerank_chunks(\"who wrote odyssey?\", initial_chunks, top_k=3)\n",
    "\n",
    "confidence = calculate_confidence(relevance_scores)\n",
    "final_chunks\n",
    "\n",
    "# 16.1 SECONDS\n",
    "# 21.9 SECONDS SECOND RUN"
   ]
  },
  {
   "cell_type": "code",
   "execution_count": 11,
   "metadata": {},
   "outputs": [
    {
     "data": {
      "text/plain": [
       "[Document(metadata={'page': 2, 'page_label': '3', 'source': 'The-Odyssey.pdf'}, page_content='The Odyssey'),\n",
       " Document(metadata={'page': 163, 'page_label': '164', 'source': 'The-Odyssey.pdf'}, page_content='minstrel Demodocus, whom the people honoured. But Odysseus would ever turn his head toward the splendour of the sun, as one fain to hasten his setting: for verily he was most eager to return. And as when a man longs for his supper, for whom all day long two dark oxen drag through the fallow field the jointed plough, yea and welcome to such an one the sunlight sinketh, that so he may get him to supper, for his knees wax faint by the way, even so welcome was the sinking of the sunlight to Odysseus. Then straight he spake among the Phaeacians, masters of the oar, and to Alcinous in chief he made known his word, saying: “My lord Alcinous, most notable of all the people, pour ye the drink offering, and send me safe upon my way, and as for you, fare ye well. For now have I all that my heart desired, an escort and loving gifts. May the gods of heaven give me good fortune with them, and may I find my noble wife in my home with my friends unharmed, while ye, for your part, abide here and make glad your wedded wives and children; and may the gods vouchsafe all manner of good, and may no evil come nigh the people!” So spake he, and they all consented thereto and bade send the stranger on his way, in that he had spoken aright. Then the mighty Alcinous spake to the henchman: “Pontonous, mix the bowl and serve out the wine to all in the hall, that we may pray to Father Zeus, and send the stranger on his way to his own country.” So spake he, and Pontonous mixed the honey-hearted wine, and served it to all in turn. And they poured forth before the blessed gods that keep wide heaven, even there as they sat. Then goodly Odysseus uprose, and placed in Arete’s hand the two-handled cup, and uttering his voice spake to her winged words: “Fare thee well, O queen, all the days of thy life, till old age come and death, that visit all mankind. But I go homeward, and do thou in this thy house rejoice in thy children and thy people and Alcinous the king.” Therewith goodly Odysseus stept over the threshold. And with him the mighty Alcinous sent forth a henchman to guide him to the swift ship and the sea-banks. And Arete sent in this train certain maidens of her household, one bearing a fresh robe and a doublet, and another she joined to them to carry the strong coffer, and yet another bare bread and red wine. Now when they had come down to the ship and to the sea, straightway the good men of the escort took these things and laid them by in the hollow ship, even all the meat and drink. Then they strewed for Odysseus a rug and a sheet of linen, on the decks of the hollow ship, in the hinder part thereof, that he might sleep sound. Then he too climbed aboard and laid him down in silence, while they sat upon the benches, every man'),\n",
       " Document(metadata={'page': 175, 'page_label': '176', 'source': 'The-Odyssey.pdf'}, page_content='who may come hither and bring tidings of him can win the ear of his wife and his dear son; but lightly do vagrants lie when they need entertainment, and care not to tell truth. Whosoever comes straying to the land of Ithaca, goes to my mistress and speaks words of guile. And she receives him kindly and lovingly and inquires of all things, and the tears fall from her eyelids for weeping, as is meet for a woman when her lord hath died afar. And quickly enough wouldst thou too, old man, forge a tale, if any would but give thee a mantle and a doublet for raiment. But as for him, dogs and swift fowls are like already to have torn his skin from the bones, and his spirit hath left him. Or the fishes have eaten him in the deep, and there lie his bones swathed in sand-drift on the shore. Yonder then hath he perished, but for his friends nought is ordained but care, for all, but for me in chief. For never again shall I find a lord so gentle, how far soever I may go, not though again I attain unto the house of my father and my mother, where at first I was born, and they nourished me themselves and with their own hands they reared me. Nor henceforth it is not for these that I sorrow so much, though I long to behold them with mine eyes in mine own country, but desire comes over me for Odysseus who is afar. His name, stranger, even though he is not here, it shameth me to speak, for he loved me exceedingly, and cared for me at heart; nay, I call him ‘worshipful,’ albeit he is far hence.” Then the steadfast goodly Odysseus spake to him again: “My friend, forasmuch as thou gainsayest utterly, and sayest that henceforth he will not come again, and thine heart is ever slow to believe, therefore will I tell thee not lightly but with an oath, that Odysseus shall return. And let me have the wages of good tidings as soon as ever he in his journeying shall come hither to his home. Then clothe me in a mantle and a doublet, goodly raiment. But ere that, albeit I am sore in need I will not take aught, for hateful to me even as the gates of hell, is that man, who under stress of poverty speaks words of guile. Now be Zeus my witness before any god, and the hospitable board and the hearth of noble Odysseus  whereunto  I  am  come,  that  all  these  things  shall  surely  be accomplished even as I tell thee. In this same year Odysseus shall come hither; as the old moon wanes and the new is born shall he return to his home, and shall take vengeance on all who here dishonour his wife and noble son.” Then didst thou make answer, swineherd Eumaeus: “Old man, it is not I then, that shall ever pay thee these wages of good tidings, nor henceforth shall Odysseus ever come to his home. Nay drink in peace, and let us turn our thoughts to other matters, and bring not these to my remembrance, for surely my heart within me is sorrowful whenever any man puts me in mind of my true lord. But as for thine oath, we will let it go by; yet, oh that Odysseus may come')]"
      ]
     },
     "execution_count": 11,
     "metadata": {},
     "output_type": "execute_result"
    }
   ],
   "source": [
    "initial_chunks = ensemble_retriever.get_relevant_documents(\"Explain the themes of hospitality in The Odyssey.\")\n",
    "final_chunks, relevance_scores = rerank_chunks(\"Explain the themes of hospitality in The Odyssey.\", initial_chunks, top_k=3)\n",
    "final_chunks\n",
    "\n",
    "# 18.0 SECONDS\n",
    "# 18.4 SECONDS SECOND RUN"
   ]
  },
  {
   "cell_type": "markdown",
   "metadata": {},
   "source": [
    "<h2>LOADING LLAMA3</h2>"
   ]
  },
  {
   "cell_type": "code",
   "execution_count": 12,
   "metadata": {},
   "outputs": [],
   "source": [
    "from langchain_groq import ChatGroq\n",
    "from AI_GATEWAYS import groq_api_key\n",
    "\n",
    "llm = ChatGroq(\n",
    "    # model_name = \"deepseek-r1-distill-llama-70b\",\n",
    "    model_name = \"llama3-70b-8192\",\n",
    "    # model_name = \"mixtral-8x7b-32768\",\n",
    "    temperature=0,\n",
    "    groq_api_key = groq_api_key\n",
    ")"
   ]
  },
  {
   "cell_type": "markdown",
   "metadata": {},
   "source": [
    "<h2>LLM IMPLEMENTATION WITHOUT MEMORY AND THRESHHOLD</h2>"
   ]
  },
  {
   "cell_type": "code",
   "execution_count": 13,
   "metadata": {},
   "outputs": [],
   "source": [
    "# from langchain_core.prompts import ChatPromptTemplate\n",
    "# from langchain_core.output_parsers import StrOutputParser\n",
    "\n",
    "# # Custom prompt template for QA\n",
    "# qa_prompt = ChatPromptTemplate.from_template(\n",
    "#     \"\"\"Use the following context from Homer's Odyssey to answer the question. \n",
    "#     If you don't know the answer, say you don't know. Be precise and stay true to the text.\n",
    "    \n",
    "#     Context:\n",
    "#     {context}\n",
    "    \n",
    "#     Question: {question}\n",
    "    \n",
    "#     Answer in complete sentences, citing text evidence:\"\"\"\n",
    "# )\n",
    "\n",
    "# # Create processing chain\n",
    "# qa_chain = (\n",
    "#     {\"context\": lambda x: format_chunks(x[\"chunks\"]), \"question\": lambda x: x[\"question\"]}\n",
    "#     | qa_prompt\n",
    "#     | llm\n",
    "#     | StrOutputParser()\n",
    "# )\n",
    "\n",
    "# def format_chunks(chunks):\n",
    "#     return \"\\n\\n\".join([f\"Page {c.metadata['page']}: {c.page_content}\" for c in chunks])"
   ]
  },
  {
   "cell_type": "code",
   "execution_count": 14,
   "metadata": {},
   "outputs": [],
   "source": [
    "# def ask_question(question):\n",
    "#     # Retrieve relevant chunks\n",
    "#     initial_chunks = ensemble_retriever.get_relevant_documents(question)\n",
    "#     final_chunks, relevance_scores = rerank_chunks(question, initial_chunks, top_k=3)\n",
    "    \n",
    "#     # Generate answer\n",
    "#     answer = qa_chain.invoke({\"question\": question, \"chunks\": final_chunks})\n",
    "    \n",
    "#     # Add sources\n",
    "#     sources = list(set(c.metadata[\"page\"] for c in final_chunks))\n",
    "#     return f\"{answer}\\n\\nSources: Pages {', '.join(map(str, sources))}\"\n",
    "\n",
    "# # Example usage\n",
    "# print(ask_question(\"What challenge did Penelope use to test the suitors?\"))"
   ]
  },
  {
   "cell_type": "markdown",
   "metadata": {},
   "source": [
    "<h2>LLM IMPLEMENTATION USING MEMORY AND THRESHHOLD</h2>\n",
    "\n",
    "<span style = \"font-weight: bold;\">k=3 :</span> Retains the last 3 exchanges\n",
    "\n",
    "<span style = \"font-weight: bold;\">memory_key :</span> The key where conversation history is stored\n",
    "\n",
    "<span style = \"font-weight: bold;\">return_messages = True :</span> Returns full messages instead of just text\n",
    "\n",
    "<span style = \"font-weight: bold;\">output_key=\"answer\" :</span> Ensures responses are linked correctly\n",
    "\n",
    "Both <span style = \"color: blue;\">chat_history</span> and <span style = \"color: blue;\">answer</span> are custom names that you define when setting up memory and output storage. They are not predefined by LangChain.\n",
    "stored conversation history will be saved under the key <span style = \"color: blue;\">\"chat_history\"</span>.\n",
    "<span style = \"color: blue;\">output_key=\"answer\"</span> tells LangChain where to store the LLM’s response.\n",
    "\n",
    "\n",
    "\n",
    "</br></br><span style = \"font-weight: bold;color: red;\">qa_chain part creates a pipeline where the user's question and retrieved chunks are sequentially processed before being sent to the LLM for answering.</span>\n",
    "\n",
    "<span style = \"font-weight: bold;\">\"context\"</span> → Retrieved chunks (relevant text from The Odyssey)\n",
    "\n",
    "<span style = \"font-weight: bold;\">\"question\"</span> → The user’s question\n",
    "\n",
    "<span style = \"font-weight: bold;\">\"chat_history\"</span> → The conversation memory (last 3 exchanges)\n",
    "\n",
    "\n",
    "<span style = \"font-weight: bold;\">| qa_prompt :</span></br> formats the inputs into a structured prompt using ChatPromptTemplate\n",
    "The qa_prompt fills in {chat_history}, {context}, and {question} with actual values.\n",
    "\n",
    "\n",
    "<span style = \"font-weight: bold;\">| llm :</span></br> Passes the formatted prompt to the LLM (llama3-70b-8192).\n",
    "The LLM reads the input, processes the question in context, and generates a coherent answer.\n",
    "\n",
    "\n",
    "<span style = \"font-weight: bold;\">| StrOutputParser() :</span></br> Converts the raw LLM output into a clean string.\n",
    "The LLM response might be wrapped in a structured format (like JSON).\n",
    "StrOutputParser() extracts only the raw text, making it easier to display or process further.\n",
    "\n",
    "<span style = \"font-weight: bold; color:red; font-size:12px;\">EG:</span>\n",
    "<span style = \"font-weight: bold;font-size:14px;\">llm_output :</span>\n",
    "<span style = \"font-size:14px;\">\"text\": \"Penelope challenged the suitors to string Odysseus' bow and shoot an arrow through twelve axe heads. Only Odysseus, in disguise, was able to complete the challenge.\"</span>\n",
    "\n",
    "<span style = \"font-weight: bold;font-size:14px;\">StrOutputParser() output :</span>\n",
    "<span style = \"font-size:14px;\">Penelope challenged the suitors to string Odysseus' bow and shoot an arrow through twelve axe heads. Only Odysseus, in disguise, was able to complete the challenge.</span>\n"
   ]
  },
  {
   "cell_type": "code",
   "execution_count": null,
   "metadata": {},
   "outputs": [
    {
     "name": "stderr",
     "output_type": "stream",
     "text": [
      "C:\\Users\\Anandhu\\AppData\\Local\\Temp\\ipykernel_16928\\3799967650.py:6: LangChainDeprecationWarning: Please see the migration guide at: https://python.langchain.com/docs/versions/migrating_memory/\n",
      "  memory = ConversationBufferWindowMemory(\n"
     ]
    }
   ],
   "source": [
    "from langchain.memory import ConversationBufferWindowMemory\n",
    "from langchain_core.prompts import ChatPromptTemplate\n",
    "from langchain_core.output_parsers import StrOutputParser\n",
    "\n",
    "\n",
    "# Create memory that retains last 3 exchanges\n",
    "memory = ConversationBufferWindowMemory(\n",
    "    k=3,\n",
    "    memory_key=\"chat_history\",\n",
    "    return_messages=True,\n",
    "    output_key=\"answer\"\n",
    ")\n",
    "\n",
    "\n",
    "# Modified QA Chain with Memory\n",
    "qa_prompt = ChatPromptTemplate.from_template(\n",
    "    \"\"\"Answer based on our conversation history and the Odyssey context:\n",
    "    \n",
    "    Chat History:\n",
    "    {chat_history}\n",
    "    \n",
    "    Context:\n",
    "    {context}\n",
    "    \n",
    "    Question: {question}\n",
    "    \n",
    "    Answer in complete sentences, citing text evidence. \n",
    "    If unsure, say so:\"\"\"\n",
    ")\n",
    "\n",
    "\n",
    "qa_chain = (\n",
    "    {\"context\": lambda x: x[\"chunks\"], \n",
    "     \"question\": lambda x: x[\"question\"],\n",
    "     \"chat_history\": lambda x: x[\"chat_history\"]}\n",
    "    | qa_prompt\n",
    "    | llm\n",
    "    | StrOutputParser()\n",
    ")"
   ]
  },
  {
   "cell_type": "markdown",
   "metadata": {},
   "source": [
    "<span style = \"font-weight: bold;\">format_chunks : </span></br>\n",
    "This function formats retrieved text by displaying the page number and content clearly.\n",
    "Helps the LLM generate contextually aware responses.\n",
    "\n",
    "<span style = \"font-size:13px;\">\n",
    "<span style = \"color:red;\">EG : </span></br>\n",
    "<span style = \"font-weight: bold;\">input : </span></br>\n",
    "chunks = [</br>\n",
    "    <span style = \"margin-left: 90px;\">Document(page_content=\"Odysseus returned home after 20 years of war and struggle.\", metadata={\"page\": 120}),</span></br>\n",
    "    <span style = \"margin-left: 90px;\">Document(page_content=\"Penelope devised a test using Odysseus' bow to challenge the suitors.\", metadata={\"page\": 132}),</span></br>\n",
    "    <span style = \"margin-left: 90px;\">Document(page_content=\"Only Odysseus was able to string the bow, proving his identity.\", metadata={\"page\": 135})</span></br>\n",
    "]\n",
    "\n",
    "<span style = \"font-weight: bold;\">Output : </span></br>\n",
    "Page 120: Odysseus returned home after 20 years of war and struggle.</br>\n",
    "Page 132: Penelope devised a test using Odysseus' bow to challenge the suitors.</br>\n",
    "Page 135: Only Odysseus was able to string the bow, proving his identity.\n",
    "</span></br></br></br>"
   ]
  },
  {
   "cell_type": "code",
   "execution_count": 16,
   "metadata": {},
   "outputs": [],
   "source": [
    "def format_chunks(chunks):\n",
    "    return \"\\n\\n\".join([f\"Page {c.metadata['page']}: {c.page_content}\" for c in chunks])\n",
    "\n",
    "\n",
    "\n",
    "def get_threshold_response():\n",
    "    \"\"\"Response when confidence is below threshold\"\"\"\n",
    "    return \"I'm not entirely confident about this answer. Would you like to rephrase or ask about another topic?\"\n",
    "\n",
    "\n",
    "\n",
    "# Modified ask_question function with confidence scoring\n",
    "def ask_question(question, confidence_threshold=0.65):\n",
    "    # Retrieve context\n",
    "    initial_chunks = ensemble_retriever.get_relevant_documents(question)\n",
    "    final_chunks, relevance_scores = rerank_chunks(question, initial_chunks, top_k=3)\n",
    "    \n",
    "    # Calculate confidence\n",
    "    confidence = calculate_confidence(relevance_scores)\n",
    "    \n",
    "    # Generate answer\n",
    "    answer = qa_chain.invoke({\n",
    "        \"question\": question,\n",
    "        \"chunks\": format_chunks(final_chunks),\n",
    "        \"chat_history\": memory.load_memory_variables({})[\"chat_history\"]\n",
    "    })\n",
    "    \n",
    "    # Store interaction in memory\n",
    "    memory.save_context({\"question\": question}, {\"answer\": answer})\n",
    "    \n",
    "    # Add confidence and sources\n",
    "    sources = list(set(c.metadata[\"page\"] for c in final_chunks))\n",
    "    response = f\"{answer}\\n\\nConfidence: {confidence:.0%}\\nSources: Pages {', '.join(map(str, sources))}\"\n",
    "    \n",
    "    return response if confidence >= confidence_threshold else f\"{get_threshold_response()}\\n\\n{response}\""
   ]
  },
  {
   "cell_type": "code",
   "execution_count": 17,
   "metadata": {},
   "outputs": [
    {
     "name": "stdout",
     "output_type": "stream",
     "text": [
      "I'm not entirely confident about this answer. Would you like to rephrase or ask about another topic?\n",
      "\n",
      "Telemachus is the noble son of the great-hearted Odysseus, as stated on page 184: \"Pallas Athene went to the wide land of Lacedaemon, to put the noble son of the great-hearted Odysseus in mind of his return, and to make him hasten his coming.\" This indicates that Telemachus is the son of Odysseus, the king of Ithaca. Additionally, on page 195, Telemachus is referred to as \"dear child\" by Theoclymenus, further emphasizing his relationship to Odysseus.\n",
      "\n",
      "Confidence: 1%\n",
      "Sources: Pages 184, 41, 195\n"
     ]
    }
   ],
   "source": [
    "# Start conversation\n",
    "print(ask_question(\"Who is Telemachus?\"))\n",
    "# Output includes answer + \"Confidence: 82%\""
   ]
  },
  {
   "cell_type": "code",
   "execution_count": 18,
   "metadata": {},
   "outputs": [
    {
     "name": "stdout",
     "output_type": "stream",
     "text": [
      "I'm not entirely confident about this answer. Would you like to rephrase or ask about another topic?\n",
      "\n",
      "Telemachus is the son of Odysseus, as stated on page 184, and is referred to as \"dear child\" by Theoclymenus on page 195, emphasizing his relationship to Odysseus. Additionally, on page 292, Odysseus sees his father, Laertes, and considers revealing his identity to him, indicating a close family relationship. Furthermore, on page 175, Telemachus expresses his longing for Odysseus, calling him \"worshipful\" and stating that he loved and cared for him exceedingly, demonstrating a strong bond between them.\n",
      "\n",
      "Confidence: 5%\n",
      "Sources: Pages 292, 230, 175\n"
     ]
    }
   ],
   "source": [
    "# Follow-up question\n",
    "print(ask_question(\"And what about his relationship with Odysseus?\"))\n",
    "# The memory maintains context about Telemachus"
   ]
  },
  {
   "cell_type": "code",
   "execution_count": 19,
   "metadata": {},
   "outputs": [
    {
     "name": "stdout",
     "output_type": "stream",
     "text": [
      "No, Odysseus did not use a lightsaber. There is no mention of a lightsaber in the provided text from the Odyssey. In fact, the text describes Odysseus using a bronze sword (Page 268), a bow and arrows (Page 268), and a spear (Page 268), but there is no mention of a lightsaber.\n",
      "\n",
      "Confidence: 99%\n",
      "Sources: Pages 224, 268, 79\n"
     ]
    }
   ],
   "source": [
    "# Low-confidence response\n",
    "print(ask_question(\"Did Odysseus use a lightsaber?\"))\n",
    "# Triggers threshold response with lower confidence score"
   ]
  }
 ],
 "metadata": {
  "kernelspec": {
   "display_name": "Python 3",
   "language": "python",
   "name": "python3"
  },
  "language_info": {
   "codemirror_mode": {
    "name": "ipython",
    "version": 3
   },
   "file_extension": ".py",
   "mimetype": "text/x-python",
   "name": "python",
   "nbconvert_exporter": "python",
   "pygments_lexer": "ipython3",
   "version": "3.10.0"
  }
 },
 "nbformat": 4,
 "nbformat_minor": 2
}
